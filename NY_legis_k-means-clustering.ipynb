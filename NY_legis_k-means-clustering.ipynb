{
 "cells": [
  {
   "cell_type": "code",
   "execution_count": 1,
   "metadata": {},
   "outputs": [],
   "source": [
    "import pandas as pd"
   ]
  },
  {
   "cell_type": "code",
   "execution_count": 2,
   "metadata": {},
   "outputs": [],
   "source": [
    "df_dtg_jan = pd.read_csv(\"all_legis_data_4.12.2021_jan_dtg.csv\", sep=\"|\")\n",
    "df_dtg_feb = pd.read_csv(\"all_legis_data_4.12.2021_feb_dtg.csv\", sep=\"|\")\n",
    "df_dtg_mar = pd.read_csv(\"all_legis_data_4.12.2021_mar_dtg.csv\", sep=\"|\")\n",
    "df_dtg_apr = pd.read_csv(\"all_legis_data_4.12.2021_apr_dtg.csv\", sep=\"|\")\n",
    "df_dtg_may = pd.read_csv(\"all_legis_data_4.12.2021_may_dtg.csv\", sep=\"|\")\n",
    "df_dtg_jun = pd.read_csv(\"all_legis_data_4.12.2021_jun_dtg.csv\", sep=\"|\")\n",
    "df_dtg_jul = pd.read_csv(\"all_legis_data_4.12.2021_jul_dtg.csv\", sep=\"|\")\n",
    "df_dtg_aug = pd.read_csv(\"all_legis_data_4.12.2021_aug_dtg.csv\", sep=\"|\")\n",
    "df_dtg_sep = pd.read_csv(\"all_legis_data_4.12.2021_sep_dtg.csv\", sep=\"|\")\n",
    "df_dtg_oct = pd.read_csv(\"all_legis_data_4.12.2021_oct_dtg.csv\", sep=\"|\")\n",
    "df_dtg_nov = pd.read_csv(\"all_legis_data_4.12.2021_nov_dtg.csv\", sep=\"|\")\n",
    "df_dtg_dec = pd.read_csv(\"all_legis_data_4.12.2021_dec_dtg.csv\", sep=\"|\")"
   ]
  },
  {
   "cell_type": "markdown",
   "metadata": {},
   "source": [
    "## January"
   ]
  },
  {
   "cell_type": "code",
   "execution_count": 3,
   "metadata": {},
   "outputs": [
    {
     "name": "stdout",
     "output_type": "stream",
     "text": [
      "Top terms per cluster:\n",
      "Cluster 0: motor vehicle stretch shall driver\n",
      "Cluster 1: shall law section health act\n",
      "Cluster 2: election shall section voter elections\n"
     ]
    }
   ],
   "source": [
    "from sklearn.feature_extraction.text import TfidfVectorizer\n",
    "from sklearn.cluster import KMeans\n",
    "\n",
    "vec = TfidfVectorizer(stop_words=\"english\", use_idf=True)\n",
    "\n",
    "matrix = vec.fit_transform(df_dtg_jan.bill_text)\n",
    "idf_df_bill_text = pd.DataFrame(matrix.toarray(), columns=vec.get_feature_names())\n",
    "\n",
    "number_of_clusters=3\n",
    "km = KMeans(n_clusters=number_of_clusters)\n",
    "km.fit(matrix)\n",
    "km.fit\n",
    "\n",
    "print(\"Top terms per cluster:\")\n",
    "order_centroids = km.cluster_centers_.argsort()[:, ::-1]\n",
    "terms = vec.get_feature_names()\n",
    "for i in range(number_of_clusters):\n",
    "    top_ten_words = [terms[ind] for ind in order_centroids[i, :5]]\n",
    "    print(\"Cluster {}: {}\".format(i, ' '.join(top_ten_words)))"
   ]
  },
  {
   "cell_type": "markdown",
   "metadata": {},
   "source": [
    "## February"
   ]
  },
  {
   "cell_type": "code",
   "execution_count": 4,
   "metadata": {},
   "outputs": [
    {
     "name": "stdout",
     "output_type": "stream",
     "text": [
      "Top terms per cluster:\n",
      "Cluster 0: order pharmacy network mail retail\n",
      "Cluster 1: assembly appropriated member late simanowitz\n",
      "Cluster 2: shall section law act tax\n"
     ]
    }
   ],
   "source": [
    "matrix = vec.fit_transform(df_dtg_feb.bill_text)\n",
    "idf_df_bill_text = pd.DataFrame(matrix.toarray(), columns=vec.get_feature_names())\n",
    "\n",
    "number_of_clusters=3\n",
    "km = KMeans(n_clusters=number_of_clusters)\n",
    "km.fit(matrix)\n",
    "km.fit\n",
    "\n",
    "print(\"Top terms per cluster:\")\n",
    "order_centroids = km.cluster_centers_.argsort()[:, ::-1]\n",
    "terms = vec.get_feature_names()\n",
    "for i in range(number_of_clusters):\n",
    "    top_ten_words = [terms[ind] for ind in order_centroids[i, :5]]\n",
    "    print(\"Cluster {}: {}\".format(i, ' '.join(top_ten_words)))"
   ]
  },
  {
   "cell_type": "markdown",
   "metadata": {},
   "source": [
    "## March"
   ]
  },
  {
   "cell_type": "code",
   "execution_count": 5,
   "metadata": {},
   "outputs": [
    {
     "name": "stdout",
     "output_type": "stream",
     "text": [
      "Top terms per cluster:\n",
      "Cluster 0: 000 services service state expenses\n",
      "Cluster 1: shall section thousand law state\n",
      "Cluster 2: shall law section act new\n"
     ]
    }
   ],
   "source": [
    "matrix = vec.fit_transform(df_dtg_mar.bill_text)\n",
    "idf_df_bill_text = pd.DataFrame(matrix.toarray(), columns=vec.get_feature_names())\n",
    "\n",
    "number_of_clusters=3\n",
    "km = KMeans(n_clusters=number_of_clusters)\n",
    "km.fit(matrix)\n",
    "km.fit\n",
    "\n",
    "print(\"Top terms per cluster:\")\n",
    "order_centroids = km.cluster_centers_.argsort()[:, ::-1]\n",
    "terms = vec.get_feature_names()\n",
    "for i in range(number_of_clusters):\n",
    "    top_ten_words = [terms[ind] for ind in order_centroids[i, :5]]\n",
    "    print(\"Cluster {}: {}\".format(i, ' '.join(top_ten_words)))"
   ]
  },
  {
   "cell_type": "markdown",
   "metadata": {},
   "source": [
    "## April Cluster"
   ]
  },
  {
   "cell_type": "code",
   "execution_count": 6,
   "metadata": {},
   "outputs": [
    {
     "name": "stdout",
     "output_type": "stream",
     "text": [
      "Top terms per cluster:\n",
      "Cluster 0: download pdf text s7504 s7503\n",
      "Cluster 1: shall section law state subdivision\n",
      "Cluster 2: shall law section new act\n"
     ]
    }
   ],
   "source": [
    "matrix = vec.fit_transform(df_dtg_apr.bill_text)\n",
    "idf_df_bill_text = pd.DataFrame(matrix.toarray(), columns=vec.get_feature_names())\n",
    "\n",
    "number_of_clusters=3\n",
    "km = KMeans(n_clusters=number_of_clusters)\n",
    "km.fit(matrix)\n",
    "km.fit\n",
    "\n",
    "print(\"Top terms per cluster:\")\n",
    "order_centroids = km.cluster_centers_.argsort()[:, ::-1]\n",
    "terms = vec.get_feature_names()\n",
    "for i in range(number_of_clusters):\n",
    "    top_ten_words = [terms[ind] for ind in order_centroids[i, :5]]\n",
    "    print(\"Cluster {}: {}\".format(i, ' '.join(top_ten_words)))"
   ]
  },
  {
   "cell_type": "markdown",
   "metadata": {},
   "source": [
    "## May"
   ]
  },
  {
   "cell_type": "code",
   "execution_count": 7,
   "metadata": {},
   "outputs": [
    {
     "name": "stdout",
     "output_type": "stream",
     "text": [
      "Top terms per cluster:\n",
      "Cluster 0: shall law act amending chapter\n",
      "Cluster 1: shall scheduled held 2017 marathon\n",
      "Cluster 2: shall law section subdivision city\n"
     ]
    }
   ],
   "source": [
    "matrix = vec.fit_transform(df_dtg_may.bill_text)\n",
    "idf_df_bill_text = pd.DataFrame(matrix.toarray(), columns=vec.get_feature_names())\n",
    "\n",
    "number_of_clusters=3\n",
    "km = KMeans(n_clusters=number_of_clusters)\n",
    "km.fit(matrix)\n",
    "km.fit\n",
    "\n",
    "print(\"Top terms per cluster:\")\n",
    "order_centroids = km.cluster_centers_.argsort()[:, ::-1]\n",
    "terms = vec.get_feature_names()\n",
    "for i in range(number_of_clusters):\n",
    "    top_ten_words = [terms[ind] for ind in order_centroids[i, :5]]\n",
    "    print(\"Cluster {}: {}\".format(i, ' '.join(top_ten_words)))"
   ]
  },
  {
   "cell_type": "markdown",
   "metadata": {},
   "source": [
    "## June"
   ]
  },
  {
   "cell_type": "code",
   "execution_count": 8,
   "metadata": {},
   "outputs": [
    {
     "name": "stdout",
     "output_type": "stream",
     "text": [
      "Top terms per cluster:\n",
      "Cluster 0: shall section law tax new\n",
      "Cluster 1: bonds notes sale private city\n",
      "Cluster 2: act shall laws law chapter\n"
     ]
    }
   ],
   "source": [
    "matrix = vec.fit_transform(df_dtg_jun.bill_text)\n",
    "idf_df_bill_text = pd.DataFrame(matrix.toarray(), columns=vec.get_feature_names())\n",
    "\n",
    "number_of_clusters=3\n",
    "km = KMeans(n_clusters=number_of_clusters)\n",
    "km.fit(matrix)\n",
    "km.fit\n",
    "\n",
    "print(\"Top terms per cluster:\")\n",
    "order_centroids = km.cluster_centers_.argsort()[:, ::-1]\n",
    "terms = vec.get_feature_names()\n",
    "for i in range(number_of_clusters):\n",
    "    top_ten_words = [terms[ind] for ind in order_centroids[i, :5]]\n",
    "    print(\"Cluster {}: {}\".format(i, ' '.join(top_ten_words)))"
   ]
  },
  {
   "cell_type": "markdown",
   "metadata": {},
   "source": [
    "## July"
   ]
  },
  {
   "cell_type": "code",
   "execution_count": 9,
   "metadata": {},
   "outputs": [
    {
     "name": "stdout",
     "output_type": "stream",
     "text": [
      "Top terms per cluster:\n",
      "Cluster 0: shall law section act new\n",
      "Cluster 1: feet point lands distance line\n",
      "Cluster 2: tax taxes exemption county percent\n"
     ]
    }
   ],
   "source": [
    "matrix = vec.fit_transform(df_dtg_jul.bill_text)\n",
    "idf_df_bill_text = pd.DataFrame(matrix.toarray(), columns=vec.get_feature_names())\n",
    "\n",
    "number_of_clusters=3\n",
    "km = KMeans(n_clusters=number_of_clusters)\n",
    "km.fit(matrix)\n",
    "km.fit\n",
    "\n",
    "print(\"Top terms per cluster:\")\n",
    "order_centroids = km.cluster_centers_.argsort()[:, ::-1]\n",
    "terms = vec.get_feature_names()\n",
    "for i in range(number_of_clusters):\n",
    "    top_ten_words = [terms[ind] for ind in order_centroids[i, :5]]\n",
    "    print(\"Cluster {}: {}\".format(i, ' '.join(top_ten_words)))"
   ]
  },
  {
   "cell_type": "markdown",
   "metadata": {},
   "source": [
    "## August"
   ]
  },
  {
   "cell_type": "code",
   "execution_count": 10,
   "metadata": {},
   "outputs": [
    {
     "name": "stdout",
     "output_type": "stream",
     "text": [
      "Top terms per cluster:\n",
      "Cluster 0: conservation environmental requirements management fishery\n",
      "Cluster 1: percent rate county tax additional\n",
      "Cluster 2: shall law section new act\n"
     ]
    }
   ],
   "source": [
    "matrix = vec.fit_transform(df_dtg_aug.bill_text)\n",
    "idf_df_bill_text = pd.DataFrame(matrix.toarray(), columns=vec.get_feature_names())\n",
    "\n",
    "number_of_clusters=3\n",
    "km = KMeans(n_clusters=number_of_clusters)\n",
    "km.fit(matrix)\n",
    "km.fit\n",
    "\n",
    "print(\"Top terms per cluster:\")\n",
    "order_centroids = km.cluster_centers_.argsort()[:, ::-1]\n",
    "terms = vec.get_feature_names()\n",
    "for i in range(number_of_clusters):\n",
    "    top_ten_words = [terms[ind] for ind in order_centroids[i, :5]]\n",
    "    print(\"Cluster {}: {}\".format(i, ' '.join(top_ten_words)))"
   ]
  },
  {
   "cell_type": "markdown",
   "metadata": {},
   "source": [
    "## September"
   ]
  },
  {
   "cell_type": "code",
   "execution_count": 11,
   "metadata": {},
   "outputs": [
    {
     "name": "stdout",
     "output_type": "stream",
     "text": [
      "Top terms per cluster:\n",
      "Cluster 0: exemption tax taxes property real\n",
      "Cluster 1: highway feet memorial bridge line\n",
      "Cluster 2: shall law section new act\n"
     ]
    }
   ],
   "source": [
    "matrix = vec.fit_transform(df_dtg_sep.bill_text)\n",
    "idf_df_bill_text = pd.DataFrame(matrix.toarray(), columns=vec.get_feature_names())\n",
    "\n",
    "number_of_clusters=3\n",
    "km = KMeans(n_clusters=number_of_clusters)\n",
    "km.fit(matrix)\n",
    "km.fit\n",
    "\n",
    "print(\"Top terms per cluster:\")\n",
    "order_centroids = km.cluster_centers_.argsort()[:, ::-1]\n",
    "terms = vec.get_feature_names()\n",
    "for i in range(number_of_clusters):\n",
    "    top_ten_words = [terms[ind] for ind in order_centroids[i, :5]]\n",
    "    print(\"Cluster {}: {}\".format(i, ' '.join(top_ten_words)))"
   ]
  },
  {
   "cell_type": "markdown",
   "metadata": {},
   "source": [
    "## October"
   ]
  },
  {
   "cell_type": "code",
   "execution_count": 12,
   "metadata": {},
   "outputs": [
    {
     "name": "stdout",
     "output_type": "stream",
     "text": [
      "Top terms per cluster:\n",
      "Cluster 0: feet retirement point lands line\n",
      "Cluster 1: exemption tax taxes property real\n",
      "Cluster 2: shall law section new act\n"
     ]
    }
   ],
   "source": [
    "matrix = vec.fit_transform(df_dtg_oct.bill_text)\n",
    "idf_df_bill_text = pd.DataFrame(matrix.toarray(), columns=vec.get_feature_names())\n",
    "\n",
    "number_of_clusters=3\n",
    "km = KMeans(n_clusters=number_of_clusters)\n",
    "km.fit(matrix)\n",
    "km.fit\n",
    "\n",
    "print(\"Top terms per cluster:\")\n",
    "order_centroids = km.cluster_centers_.argsort()[:, ::-1]\n",
    "terms = vec.get_feature_names()\n",
    "for i in range(number_of_clusters):\n",
    "    top_ten_words = [terms[ind] for ind in order_centroids[i, :5]]\n",
    "    print(\"Cluster {}: {}\".format(i, ' '.join(top_ten_words)))"
   ]
  },
  {
   "cell_type": "markdown",
   "metadata": {},
   "source": [
    "## November"
   ]
  },
  {
   "cell_type": "code",
   "execution_count": 13,
   "metadata": {},
   "outputs": [
    {
     "name": "stdout",
     "output_type": "stream",
     "text": [
      "Top terms per cluster:\n",
      "Cluster 0: shall law section new state\n",
      "Cluster 1: tax exemption property taxes real\n",
      "Cluster 2: retirement member actuarial service new\n"
     ]
    }
   ],
   "source": [
    "matrix = vec.fit_transform(df_dtg_nov.bill_text)\n",
    "idf_df_bill_text = pd.DataFrame(matrix.toarray(), columns=vec.get_feature_names())\n",
    "\n",
    "number_of_clusters=3\n",
    "km = KMeans(n_clusters=number_of_clusters)\n",
    "km.fit(matrix)\n",
    "km.fit\n",
    "\n",
    "print(\"Top terms per cluster:\")\n",
    "order_centroids = km.cluster_centers_.argsort()[:, ::-1]\n",
    "terms = vec.get_feature_names()\n",
    "for i in range(number_of_clusters):\n",
    "    top_ten_words = [terms[ind] for ind in order_centroids[i, :5]]\n",
    "    print(\"Cluster {}: {}\".format(i, ' '.join(top_ten_words)))"
   ]
  },
  {
   "cell_type": "markdown",
   "metadata": {},
   "source": [
    "## December"
   ]
  },
  {
   "cell_type": "code",
   "execution_count": 14,
   "metadata": {},
   "outputs": [
    {
     "name": "stdout",
     "output_type": "stream",
     "text": [
      "Top terms per cluster:\n",
      "Cluster 0: retirement member actuarial police service\n",
      "Cluster 1: tax hotel motel taxes shall\n",
      "Cluster 2: shall law section new state\n"
     ]
    }
   ],
   "source": [
    "matrix = vec.fit_transform(df_dtg_dec.bill_text)\n",
    "idf_df_bill_text = pd.DataFrame(matrix.toarray(), columns=vec.get_feature_names())\n",
    "\n",
    "number_of_clusters=3\n",
    "km = KMeans(n_clusters=number_of_clusters)\n",
    "km.fit(matrix)\n",
    "km.fit\n",
    "\n",
    "print(\"Top terms per cluster:\")\n",
    "order_centroids = km.cluster_centers_.argsort()[:, ::-1]\n",
    "terms = vec.get_feature_names()\n",
    "for i in range(number_of_clusters):\n",
    "    top_ten_words = [terms[ind] for ind in order_centroids[i, :5]]\n",
    "    print(\"Cluster {}: {}\".format(i, ' '.join(top_ten_words)))"
   ]
  },
  {
   "cell_type": "code",
   "execution_count": 15,
   "metadata": {},
   "outputs": [],
   "source": [
    "# import spacy"
   ]
  },
  {
   "cell_type": "code",
   "execution_count": 16,
   "metadata": {},
   "outputs": [],
   "source": [
    "# nlp = spacy.load(\"en_core_web_sm\")"
   ]
  },
  {
   "cell_type": "code",
   "execution_count": 17,
   "metadata": {},
   "outputs": [],
   "source": [
    "# from sklearn.decomposition import PCA"
   ]
  },
  {
   "cell_type": "code",
   "execution_count": 18,
   "metadata": {},
   "outputs": [],
   "source": [
    "# bill_text = df_dtg_dec.bill_text\n",
    "# X = [nlp(bill_text).vector for bill_text in bill_text]\n",
    "\n",
    "# pca = PCA(n_components=3)\n",
    "# pca.fit(X)\n",
    "\n",
    "# transformed = pca.transform(X)\n",
    "# bill_text_dec_df = pd.DataFrame(transformed, columns=['x','y','z'])\n",
    "# bill_text_dec_df['word'] = words\n",
    "# bill_text"
   ]
  },
  {
   "cell_type": "code",
   "execution_count": null,
   "metadata": {},
   "outputs": [],
   "source": []
  }
 ],
 "metadata": {
  "kernelspec": {
   "display_name": "Python 3",
   "language": "python",
   "name": "python3"
  },
  "language_info": {
   "codemirror_mode": {
    "name": "ipython",
    "version": 3
   },
   "file_extension": ".py",
   "mimetype": "text/x-python",
   "name": "python",
   "nbconvert_exporter": "python",
   "pygments_lexer": "ipython3",
   "version": "3.8.6"
  }
 },
 "nbformat": 4,
 "nbformat_minor": 4
}
